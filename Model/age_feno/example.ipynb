{
 "cells": [
  {
   "cell_type": "code",
   "execution_count": null,
   "metadata": {},
   "outputs": [],
   "source": [
    "# importing required libraries \n",
    "import numpy as np \n",
    "import matplotlib.pyplot as plt \n",
    "import pandas as pd \n",
    "from sklearn.model_selection import cross_val_score\n",
    "from sklearn.metrics import roc_curve, auc,confusion_matrix ,precision_recall_curve,f1_score,accuracy_score\n",
    "from sklearn.model_selection import StratifiedKFold\n",
    "from itertools import cycle\n",
    "from scipy import interp\n",
    "from sklearn.externals import joblib\n",
    "from matplotlib.colors import ListedColormap \n",
    "from sklearn.model_selection import train_test_split\n",
    "from matplotlib import cm\n",
    "from matplotlib.colors import ListedColormap, LinearSegmentedColormap\n",
    "#Import Random Forest Model\n",
    "from sklearn.ensemble import RandomForestClassifier\n",
    "import seaborn as sns"
   ]
  },
  {
   "cell_type": "code",
   "execution_count": null,
   "metadata": {},
   "outputs": [],
   "source": [
    "clf3 = joblib.load('./COVID19-ML/Model/age_bmi_bodyara_feno/ml.pkl')"
   ]
  },
  {
   "cell_type": "code",
   "execution_count": null,
   "metadata": {},
   "outputs": [],
   "source": [
    "# importing or loading the dataset \n",
    "dataset = pd.read_csv('./COVID19-ML/Model/age_bmi_bodyara_feno/example.csv') "
   ]
  },
  {
   "cell_type": "code",
   "execution_count": null,
   "metadata": {},
   "outputs": [],
   "source": [
    "X=dataset[[ 'Age','BMI', 'Body Area','FeNO']]\n",
    "#X=dataset[[ 'Age','FeNO']]\n",
    "#X=dataset[[ 'Age','Height', 'Weight','FeNO']]\n",
    "y=dataset[[ 'Species']]"
   ]
  },
  {
   "cell_type": "code",
   "execution_count": null,
   "metadata": {
    "scrolled": false
   },
   "outputs": [],
   "source": [
    "\n",
    "y_pre= clf3.predict_proba(X[[ 'Age','BMI', 'Body Area','FeNO']])\n",
    "\n",
    "\n",
    "X_set=X[['FeNO']].values\n",
    "y_set=y.values.tolist()\n",
    "#print(type(y_test))\n",
    "#y_full_pre= clf3.predict(X)\n",
    "\n",
    "\n",
    "for i in range(y.shape[0]): \n",
    "    #print(ytest[i,1])\n",
    "    plt.scatter(y_pre[i, 1], X_set[i,0],c = ListedColormap(('Blue', 'red'))( y_set[i]))   \n",
    "\n",
    "    \n",
    "    \n",
    "    \n",
    "    \n",
    "\n",
    "plt.plot([0.5, 0.5], [0.0, 70.0], linestyle='--', lw=2, color='k')\n",
    " \n",
    "\n",
    "plt.xlim([-0.05, 1.05])\n",
    "plt.ylim([0.0, 70.0])\n",
    "plt.xlabel('Predicted value for COVID-19')\n",
    "plt.ylabel('FeNO (ppb)')\n",
    "plt.title('Training set')\n",
    "plt.tight_layout(pad=0.0, w_pad=0.00, h_pad=0.0)\n",
    "plt.savefig('./trainset.tif',dpi=600)\n",
    "\n",
    "plt.show()"
   ]
  },
  {
   "cell_type": "code",
   "execution_count": null,
   "metadata": {},
   "outputs": [],
   "source": [
    "\n",
    "\n",
    "probas_ = clf3.predict_proba(X)\n",
    "\n",
    "fpr, tpr, thresholds = roc_curve(y, probas_[:, 1])\n",
    "#进行插值\n",
    "y_pred=clf3.predict(X)\n",
    "roc_auc = auc(fpr, tpr)\n",
    "data1 = pd.DataFrame(y_pred)\n",
    "data1.to_csv('predict.csv',header=True)    \n",
    "    \n",
    "f1=f1_score(y, y_pred, labels=None, pos_label=1, average='binary', sample_weight=None)\n",
    "print(f1)  \n",
    "plt.plot(fpr, tpr, lw=2,\n",
    "            label='(AUC = %0.3f)' % ( roc_auc),color=(6/256.0,38/256.0,137/256.0))\n",
    " \n",
    "\n",
    "plt.plot([0, 1], [0, 1], linestyle='--', lw=0.5, color='k')\n",
    "  \n",
    "plt.xlim([-0.05, 1.05])\n",
    "plt.ylim([-0.05, 1.05])\n",
    "plt.xlabel('False Positive Rate')\n",
    "plt.ylabel('True Positive Rate')\n",
    "#plt.title('Receiver operating characteristic')\n",
    "plt.tight_layout(pad=0.0, w_pad=0.00, h_pad=0.0)\n",
    "#plt.text(0.9,4.5,name[j],fontdict={ 'size'   : 7})\n",
    "\n",
    "plt.legend(loc=\"lower right\")\n",
    "plt.savefig('./ROC_Curve.tif',dpi=600)\n",
    "plt.show()"
   ]
  }
 ],
 "metadata": {
  "kernelspec": {
   "display_name": "Python 3",
   "language": "python",
   "name": "python3"
  },
  "language_info": {
   "codemirror_mode": {
    "name": "ipython",
    "version": 3
   },
   "file_extension": ".py",
   "mimetype": "text/x-python",
   "name": "python",
   "nbconvert_exporter": "python",
   "pygments_lexer": "ipython3",
   "version": "3.7.3"
  }
 },
 "nbformat": 4,
 "nbformat_minor": 2
}
