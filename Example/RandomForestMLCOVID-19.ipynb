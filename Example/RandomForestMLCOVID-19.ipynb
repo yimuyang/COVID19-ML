{
 "cells": [
  {
   "cell_type": "code",
   "execution_count": null,
   "metadata": {},
   "outputs": [],
   "source": [
    "# importing required libraries \n",
    "import numpy as np \n",
    "import matplotlib.pyplot as plt \n",
    "import pandas as pd \n",
    "from sklearn.model_selection import cross_val_score\n",
    "from sklearn.metrics import roc_curve, auc,confusion_matrix ,precision_recall_curve,f1_score,accuracy_score\n",
    "from sklearn.model_selection import StratifiedKFold\n",
    "from itertools import cycle\n",
    "from scipy import interp\n",
    "from sklearn.externals import joblib\n",
    "from matplotlib.colors import ListedColormap \n",
    "from sklearn.model_selection import train_test_split\n",
    "from matplotlib import cm\n",
    "from matplotlib.colors import ListedColormap, LinearSegmentedColormap\n",
    "#Import Random Forest Model\n",
    "from sklearn.ensemble import RandomForestClassifier\n",
    "import seaborn as sns"
   ]
  },
  {
   "cell_type": "code",
   "execution_count": null,
   "metadata": {},
   "outputs": [],
   "source": [
    "#Loading the dataset \n",
    "dataset = pd.read_csv('data_new.csv') \n",
    "\n",
    "print(dataset.columns)\n"
   ]
  },
  {
   "cell_type": "code",
   "execution_count": null,
   "metadata": {},
   "outputs": [],
   "source": [
    "dataset[['Sex']]=dataset[['Gender']]"
   ]
  },
  {
   "cell_type": "code",
   "execution_count": null,
   "metadata": {},
   "outputs": [],
   "source": [
    "# Determin features and targets\n",
    "\n",
    "X=dataset[['Height', 'Weight', 'Age','BMI', 'Body Area','Sex','FeNO']]  # Features\n",
    "y=dataset['Species']  # Labels\n"
   ]
  },
  {
   "cell_type": "code",
   "execution_count": null,
   "metadata": {},
   "outputs": [],
   "source": [
    "#Correlations between features\n",
    "cor_matrix = X.corr()\n",
    "\n"
   ]
  },
  {
   "cell_type": "code",
   "execution_count": null,
   "metadata": {},
   "outputs": [],
   "source": [
    "# Plot heat map\n",
    "def plot_examples(colormaps):\n",
    "    \"\"\"\n",
    "    Helper function to plot data with associated colormap.\n",
    "    \"\"\"\n",
    "    \n",
    "    plotdata = cor_matrix\n",
    "    n = len(colormaps)\n",
    "    fig, axs = plt.subplots(1, n, figsize=(n * 2 +4, 4),\n",
    "                            constrained_layout=True, squeeze=False)\n",
    "    for [ax, cmap] in zip(axs.flat, colormaps):\n",
    "        psm = ax.pcolormesh(plotdata, cmap=cmap, rasterized=True, vmin=-1, vmax=1)\n",
    "        fig.colorbar(psm, ax=ax)\n",
    "        \n",
    "    #plt.subplots.yticklabels(fontdict={ 'size'   : 7})\n",
    "    plt.gca().set_xticks(np.linspace(0,7,7))\n",
    "    plt.gca().set_yticks(np.linspace(0,7,7))    \n",
    "    plt.gca().set_xticklabels(['Height', 'Weight', \"Age\", \"BMI\", 'Body Area', 'Sex', \"FeNO\"],fontproperties = 'Arial')\n",
    "    plt.xticks(rotation=15)\n",
    "    plt.gca().set_yticklabels(['Height', 'Weight', \"Age\", \"BMI\", 'Body Area', 'Sex', \"FeNO\"],fontproperties = 'Arial')\n",
    "    #plt.yticks(rotation=5) \n",
    "    plt.savefig('./heatmap.tif',dpi=600)\n",
    "    plt.show()\n",
    "    "
   ]
  },
  {
   "cell_type": "code",
   "execution_count": null,
   "metadata": {},
   "outputs": [],
   "source": [
    "N = 256\n",
    "vals = np.ones((N, 4))\n",
    "vals1 = np.ones((N, 4))\n",
    "vals[:, 0] = np.linspace(178/256, 1, N)\n",
    "vals[:, 1] = np.linspace(2/256, 1, N)\n",
    "vals[:, 2] = np.linspace(4/256, 1, N)\n",
    "vals1[:, 0] = np.linspace(1 ,6/256, N)\n",
    "vals1[:, 1] = np.linspace(1,38/256,  N)\n",
    "vals1[:, 2] = np.linspace(1,137/256,  N)\n",
    "\n",
    "\n",
    "newcolors = np.vstack((vals, vals1))\n",
    "newcmp = ListedColormap(newcolors, name='OrangeBlue')\n",
    "plot_examples([newcmp])\n"
   ]
  },
  {
   "cell_type": "code",
   "execution_count": null,
   "metadata": {},
   "outputs": [],
   "source": [
    "\n",
    "#Create a random forest classifier\n",
    "clf=RandomForestClassifier(n_estimators=1000,class_weight={0:1000,1:1},random_state=200)\n",
    "\n",
    "#Train the model use total set to found the feature importance\n",
    "clf.fit(X,y)\n",
    "\n",
    "\n",
    "y_pred= clf.predict(X) \n",
    "#print the confusion matrix   \n",
    "cm=confusion_matrix(y,y_pred)\n",
    "\n",
    "print(cm)    \n",
    "    "
   ]
  },
  {
   "cell_type": "code",
   "execution_count": null,
   "metadata": {},
   "outputs": [],
   "source": [
    "#feature importance\n",
    "feature_imp = pd.Series(clf.feature_importances_,index=X.columns[0:7]).sort_values(ascending=False)\n",
    "feature_imp"
   ]
  },
  {
   "cell_type": "code",
   "execution_count": null,
   "metadata": {},
   "outputs": [],
   "source": [
    "\n",
    "#Plot the feature importance\n",
    "# Creating a bar plot\n",
    "sns.barplot(x=feature_imp, y=feature_imp.index,palette=sns.light_palette((6/256.0,38/256.0,137/256.0),n_colors = 7, reverse = True))\n",
    "\n",
    "# Add labels to your graph\n",
    "\n",
    "plt.xlabel('Feature Importance Score')\n",
    "\n",
    "plt.ylabel('Features')\n",
    "\n",
    "plt.tight_layout(pad=0.05, w_pad=0.00, h_pad=0.0)\n",
    "plt.savefig('./character.tif',dpi=600)\n",
    "plt.show()"
   ]
  },
  {
   "cell_type": "code",
   "execution_count": null,
   "metadata": {},
   "outputs": [],
   "source": [
    "X=dataset[[ 'Age','BMI', 'Body Area','FeNO']]  # Features\n",
    "y=dataset['Species']  # Labels\n"
   ]
  },
  {
   "cell_type": "code",
   "execution_count": null,
   "metadata": {},
   "outputs": [],
   "source": [
    "# Split dataset into training set and test set\n",
    "X_train, X_test, y_train, y_test = train_test_split(X, y, test_size=0.25,random_state=40,shuffle=True) # 70% training and 30% test"
   ]
  },
  {
   "cell_type": "code",
   "execution_count": null,
   "metadata": {},
   "outputs": [],
   "source": [
    "mean_tpr = 0.0\n",
    "mean_fpr = np.linspace(0, 1, 100)\n",
    "\n",
    "cv = StratifiedKFold(n_splits=10,random_state=1)\n",
    "lw=2\n",
    "##### k折交叉验证\n",
    "i=0\n",
    "k=0\n",
    "for train, test in cv.split(X_train, y_train):\n",
    "    Xtrain, Xtest = X_train.iloc[list(train)], X_train.iloc[list(test)]\n",
    "    ytrain, ytest = y_train.iloc[list(train)], y_train.iloc[list(test)]\n",
    "    #print(ytest)\n",
    "    probas_ = clf.fit(Xtrain, ytrain).predict_proba(Xtest)\n",
    "    ypredicted=clf.predict_proba(X)\n",
    "    #模型和数据保存\n",
    "    namecsv1=str(k)+'xtrain.csv'\n",
    "    namecsv2=str(k)+'xtest.csv'\n",
    "    namecsv3=str(k)+'ytrain.csv'\n",
    "    namecsv4=str(k)+'ytest.csv'\n",
    "    namecsv5=str(k)+'ypredicted.csv'\n",
    "    namepkl =str(k)+'.pkl'\n",
    "    \n",
    "    X1 = pd.DataFrame( Xtrain)\n",
    "    X2 = pd.DataFrame( Xtest)\n",
    "    X3 = pd.DataFrame( ytrain)\n",
    "    X4 = pd.DataFrame( ytest)\n",
    "    X5 = pd.DataFrame( ypredicted)\n",
    "    X1.to_csv('save6/'+namecsv1,header=True)\n",
    "    X2.to_csv('save6/'+namecsv2,header=True)\n",
    "    X3.to_csv('save6/'+namecsv3,header=True)\n",
    "    X4.to_csv('save6/'+namecsv4,header=True)\n",
    "    X5.to_csv('save6/'+namecsv5,header=True)\n",
    "    \n",
    "    name =str(k)+'.pkl'\n",
    "    #保存Model(注:save文件夹要预先建立，否则会报错)\n",
    "    joblib.dump(clf, 'save6/'+name)\n",
    "    k+=1\n",
    "    \n",
    "    # Compute ROC curve and area the curve\n",
    "    #　注意这里返回的阈值，以区分正负样本的阈值\n",
    "    fpr, tpr, thresholds = roc_curve(ytest, probas_[:, 1])\n",
    "    #进行插值\n",
    "    mean_tpr += interp(mean_fpr, fpr, tpr)\n",
    "    mean_tpr[0] = 0.0\n",
    "    roc_auc = auc(fpr, tpr)\n",
    "    \n",
    "    \n",
    "    ytrain_pred=clf.predict(Xtrain)\n",
    "    #Predict the response for test dataset\n",
    "    ypred = clf.predict(Xtest)\n",
    "    \n",
    "    cm_train=confusion_matrix(ytrain,ytrain_pred)\n",
    "    cm = confusion_matrix(ytest, ypred)\n",
    "    #print(cm_train)\n",
    "    #print(cm)    \n",
    "    \n",
    "    plt.plot(fpr, tpr, lw=lw,\n",
    "             label='ROC fold %d (area = %0.2f)' % (i, roc_auc))\n",
    " \n",
    "    i += 1\n",
    "plt.plot([0, 1], [0, 1], linestyle='--', lw=lw, color='k',\n",
    "         label='Luck')\n",
    " \n",
    "mean_tpr /= cv.get_n_splits(X_train, y_train)\n",
    "mean_tpr[-1] = 1.0\n",
    "mean_auc = auc(mean_fpr, mean_tpr)\n",
    "plt.plot(mean_fpr, mean_tpr, color='g', linestyle='--',\n",
    "         label='Mean ROC (area = %0.2f)' % mean_auc, lw=lw)\n",
    " \n",
    "plt.xlim([-0.05, 1.05])\n",
    "plt.ylim([-0.05, 1.05])\n",
    "plt.xlabel('False Positive Rate')\n",
    "plt.ylabel('True Positive Rate')\n",
    "plt.title('Receiver operating characteristic example')\n",
    "plt.legend(loc=\"lower right\")\n",
    "plt.show()"
   ]
  },
  {
   "cell_type": "code",
   "execution_count": null,
   "metadata": {},
   "outputs": [],
   "source": [
    "clf3 = joblib.load('save6/4.pkl')"
   ]
  },
  {
   "cell_type": "code",
   "execution_count": null,
   "metadata": {},
   "outputs": [],
   "source": [
    "y_train_pred= clf3.predict_proba(X_train[[ 'Age','BMI', 'Body Area','FeNO']])\n",
    "\n",
    "\n",
    "X_set=X_train[['FeNO']].values\n",
    "y_set=y_train.values.tolist()\n",
    "#print(type(y_test))\n",
    "#y_full_pre= clf3.predict(X)\n",
    "\n",
    "\n",
    "for i in range(y_train.shape[0]): \n",
    "    #print(ytest[i,1])\n",
    "    plt.scatter(y_train_pred[i, 1], X_set[i,0],c = ListedColormap(('Blue', 'red', 'blue'))( y_set[i]))   \n",
    "        \n",
    "\n",
    "plt.plot([0.5, 0.5], [0.0, 70.0], linestyle='--', lw=lw, color='k')\n",
    " \n",
    "\n",
    "plt.xlim([-0.05, 1.05])\n",
    "plt.ylim([0.0, 70.0])\n",
    "plt.xlabel('Predicted value for COVID-19')\n",
    "plt.ylabel('FeNO (ppb)')\n",
    "plt.title('Training set')\n",
    "plt.tight_layout(pad=0.0, w_pad=0.00, h_pad=0.0)\n",
    "plt.savefig('./trainset.tif',dpi=600)\n",
    "plt.legend(loc=\"lower right\")\n",
    "plt.show()"
   ]
  },
  {
   "cell_type": "code",
   "execution_count": null,
   "metadata": {
    "scrolled": false
   },
   "outputs": [],
   "source": [
    "clf3 = joblib.load('save6/4.pkl')\n",
    "y_test_pred= clf3.predict_proba(X_test[[ 'Age','BMI', 'Body Area','FeNO']])\n",
    "\n",
    "\n",
    "X_set=X_test[['FeNO']].values\n",
    "y_set=y_test.values.tolist()\n",
    "#print(type(y_test))\n",
    "#y_full_pre= clf3.predict(X)\n",
    "data1 = pd.DataFrame(y_test_pred)\n",
    "data1.to_csv('predict.csv',header=True)\n",
    "\n",
    "for i in range(y_test.shape[0]): \n",
    "    #print(ytest[i,1])\n",
    "    plt.scatter(y_test_pred[i, 1], X_set[i,0],c = ListedColormap(('Blue', 'red', 'blue'))( y_set[i]))   \n",
    "        \n",
    "\n",
    "plt.plot([0.5, 0.5], [0.0, 70.0], linestyle='--', lw=lw, color='k')\n",
    " \n",
    "\n",
    "plt.xlim([-0.05, 1.05])\n",
    "plt.ylim([0.0, 70.0])\n",
    "plt.xlabel('Predicted value for COVID-19')\n",
    "plt.ylabel('FeNO (ppb)')\n",
    "plt.title('Training set')\n",
    "plt.tight_layout(pad=0.0, w_pad=0.00, h_pad=0.0)\n",
    "plt.savefig('./trainset.tif',dpi=600)\n",
    "plt.legend(loc=\"lower right\")\n",
    "plt.show()"
   ]
  },
  {
   "cell_type": "code",
   "execution_count": null,
   "metadata": {},
   "outputs": [],
   "source": [
    "\n",
    "\n",
    "probas_ = clf3.predict_proba(X_test)\n",
    "\n",
    "fpr, tpr, thresholds = roc_curve(y_test, probas_[:, 1])\n",
    "#进行插值\n",
    "y_test_pred=clf3.predict(X_test)\n",
    "roc_auc = auc(fpr, tpr)  \n",
    "    \n",
    "f1=f1_score(y_test, y_test_pred, labels=None, pos_label=1, average='binary', sample_weight=None)\n",
    "print(\"f1 score= \",f1)  \n",
    "plt.plot(fpr, tpr, lw=2,\n",
    "            label='(AUC = %0.3f)' % ( roc_auc),color=(6/256.0,38/256.0,137/256.0))\n",
    " \n",
    "\n",
    "plt.plot([0, 1], [0, 1], linestyle='--', lw=0.5, color='k')\n",
    "  \n",
    "plt.xlim([-0.05, 1.05])\n",
    "plt.ylim([-0.05, 1.05])\n",
    "plt.xlabel('False Positive Rate')\n",
    "plt.ylabel('True Positive Rate')\n",
    "#plt.title('Receiver operating characteristic')\n",
    "plt.tight_layout(pad=0.0, w_pad=0.00, h_pad=0.0)\n",
    "#plt.text(0.9,4.5,name[j],fontdict={ 'size'   : 7})\n",
    "\n",
    "plt.legend(loc=\"lower right\")\n",
    "plt.savefig('./ROC_Curve.tif',dpi=600)\n",
    "plt.show()"
   ]
  },
  {
   "cell_type": "code",
   "execution_count": null,
   "metadata": {},
   "outputs": [],
   "source": [
    "totaltestset= pd.read_excel('test_total.xlsx') "
   ]
  },
  {
   "cell_type": "code",
   "execution_count": null,
   "metadata": {},
   "outputs": [],
   "source": [
    "X_test=totaltestset[[ 'Age','BMI', 'Body Area','FeNO']]\n",
    "y_test=totaltestset[[ 'Species']]"
   ]
  },
  {
   "cell_type": "code",
   "execution_count": null,
   "metadata": {},
   "outputs": [],
   "source": [
    "y_test_pred= clf3.predict_proba(X_test[[ 'Age','BMI', 'Body Area','FeNO']])\n",
    "\n",
    "\n",
    "X_set=X_test[['FeNO']].values\n",
    "y_set=y_test.values.tolist()\n",
    "#print(type(y_test))\n",
    "#y_full_pre= clf3.predict(X)\n",
    "data1 = pd.DataFrame(y_test_pred)\n",
    "data1.to_csv('predict.csv',header=True)\n",
    "\n",
    "for i in range(y_test.shape[0]): \n",
    "    #print(ytest[i,1])\n",
    "    plt.scatter(y_test_pred[i, 1], X_set[i,0],c = ListedColormap(('Blue', 'red', 'blue'))( y_set[i]))   \n",
    "        \n",
    "\n",
    "plt.plot([0.5, 0.5], [0.0, 70.0], linestyle='--', lw=lw, color='k')\n",
    " \n",
    "\n",
    "plt.xlim([-0.05, 1.05])\n",
    "plt.ylim([0.0, 70.0])\n",
    "plt.xlabel('Predicted value for COVID-19')\n",
    "plt.ylabel('FeNO (ppb)')\n",
    "plt.title('Training set')\n",
    "plt.tight_layout(pad=0.0, w_pad=0.00, h_pad=0.0)\n",
    "plt.savefig('./trainset.tif',dpi=600)\n",
    "plt.legend(loc=\"lower right\")\n",
    "plt.show()"
   ]
  }
 ],
 "metadata": {
  "kernelspec": {
   "display_name": "Python 3",
   "language": "python",
   "name": "python3"
  },
  "language_info": {
   "codemirror_mode": {
    "name": "ipython",
    "version": 3
   },
   "file_extension": ".py",
   "mimetype": "text/x-python",
   "name": "python",
   "nbconvert_exporter": "python",
   "pygments_lexer": "ipython3",
   "version": "3.7.3"
  }
 },
 "nbformat": 4,
 "nbformat_minor": 2
}
